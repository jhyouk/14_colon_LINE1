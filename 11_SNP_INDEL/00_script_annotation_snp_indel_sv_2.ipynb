{
 "cells": [
  {
   "cell_type": "code",
   "execution_count": 5,
   "metadata": {},
   "outputs": [
    {
     "name": "stdout",
     "output_type": "stream",
     "text": [
      "THE END\n"
     ]
    }
   ],
   "source": [
    "#SNP & INDEL annotation file generation\n",
    "\n",
    "input_file = file(\"/home/users/jhyouk/14_colon_LINE1/bam_list_201117_424sample.txt\")\n",
    "\n",
    "input_line = input_file.readline().strip()\n",
    "output_file = file(\"/home/users/jhyouk/14_colon_LINE1/11_SNP_INDEL/000_run_annotation_snp_indel_201124LINE1.sh\",\"w\")\n",
    "while input_line:\n",
    "    input_split = input_line.split('\\t')\n",
    "    \n",
    "    input_tumor = input_split[0]\n",
    "    input_germline = input_split[1]\n",
    "    id_tumor = input_split[0].split('.bam')[0].split('.s')[0].replace(\"-wgs\",\"_blood-wgs\")\n",
    "    id_germline = input_split[1].split('.s.md.')[0]\n",
    "    \n",
    "    output_file.write(\"sh /home/users/jhyouk/81_filter_test_LADC/11_universe_filter/000_universal_annotation_filter_github.sh %s snp hg19 /home/users/team_projects/colon_LINE1/02_bam/%s /home/users/team_projects/colon_LINE1/02_bam/%s /home/users/jhyouk/81_filter_test_LADC/10_PanalOfNormal/korean36.36s.q0Q0.chr1.mpileup.snv.edit.gz\\n\" % (id_tumor, input_tumor, input_germline))\n",
    "    output_file.write(\"sh /home/users/jhyouk/81_filter_test_LADC/11_universe_filter/000_universal_annotation_filter_github.sh %s indel hg19 /home/users/team_projects/colon_LINE1/02_bam/%s /home/users/team_projects/colon_LINE1/02_bam/%s /home/users/jhyouk/81_filter_test_LADC/10_PanalOfNormal/korean36.36s.q0Q0.chr1.mpileup.indel.edit.gz\\n\" % (id_tumor, input_tumor, input_germline))\n",
    "    \n",
    "    input_line = input_file.readline().strip()\n",
    "\n",
    "output_file.close()\n",
    "print 'THE END'"
   ]
  },
  {
   "cell_type": "code",
   "execution_count": 4,
   "metadata": {},
   "outputs": [
    {
     "name": "stdout",
     "output_type": "stream",
     "text": [
      "THE END\n"
     ]
    }
   ],
   "source": [
    "#SV annotation file generation\n",
    "input_file = file(\"/home/users/jhyouk/14_colon_LINE1/bam_list_201117_424sample.txt\")\n",
    "\n",
    "input_line = input_file.readline().strip()\n",
    "output_file = file(\"/home/users/jhyouk/14_colon_LINE1/13_SV/000_run_annotation_sv_201124LINE1.sh\",\"w\")\n",
    "while input_line:\n",
    "    input_split = input_line.split('\\t')\n",
    "    \n",
    "    input_tumor = input_split[0]\n",
    "    input_germline = input_split[1]\n",
    "    id_tumor = input_split[0].split('.bam')[0].split('.s')[0].replace(\"-wgs\",\"_bloodsmall-wgs\")\n",
    "    id_germline = input_split[1].split('.s.md.')[0]\n",
    "    \n",
    "    #output_file.write(\"sh /home/users/jhyouk/81_filter_test_LADC/13_SV/01_1_script_annotation_424.sh %s %s /home/users/team_projects/colon_LINE1/02_bam /home/users/jhyouk/81_filter_test_LADC/13_SV/PON.delly.txt hg19\\n\" % (input_tumor, input_germline))\n",
    "    output_file.write(\"sh /home/users/jhyouk/81_filter_test_LADC/13_SV/01_Delly_annotation.sh %s 10 /home/users/team_projects/colon_LINE1/02_bam/%s /home/users/team_projects/colon_LINE1/02_bam/%s /home/users/jhyouk/81_filter_test_LADC/13_SV/PON.delly.txt /home/users/jhyouk/81_filter_test_LADC/13_SV/Delly_annotation_scripts hg19\\n\" %(id_tumor, input_tumor, input_germline))\n",
    "    input_line = input_file.readline().strip()\n",
    "\n",
    "output_file.close()\n",
    "print 'THE END'"
   ]
  },
  {
   "cell_type": "code",
   "execution_count": 1,
   "metadata": {},
   "outputs": [
    {
     "name": "stdout",
     "output_type": "stream",
     "text": [
      "['31-2019-O-1']\n",
      "31-2019-O-1\n",
      "31-2019-O-1\n",
      "THE END\n"
     ]
    }
   ],
   "source": [
    "# SNP TRUE filter\n",
    "\n",
    "import sys\n",
    "#input_list = open(\"/home/users/jhyouk/15_NCC_CHA/NCC_sampleID_201030.txt\")\n",
    "input_id = [sys.argv[1]]\n",
    "#input_list_line = input_list.readline().strip() #input_list_line 은 input_list 의 첫 줄\n",
    "\n",
    "#while input_list_line:\n",
    "#    input_id.append(input_list_line) #input_list_line 을 input_id 에 넣어라.\n",
    "#    input_list_line = input_list.readline().strip() #input_list_line 은 input_list 의 그 다음줄\n",
    "\n",
    "print(input_id) #input_id 에 input_list 의 각 줄의 내용이 들어감.\n",
    "\n",
    "for input_fn in input_id:\n",
    "    print(input_fn)\n",
    "    input_file = open('/home/users/jhyouk/15_NCC_CHA/11_SNP_INDEL/%s_snp_union_2.readinfo.readc.rasmy_PanelofNormal.filter1.vcf' % input_fn)\n",
    "    input_line = input_file.readline().strip() #input_line 은 input_file 의 첫 줄\n",
    "    output_file = open('/home/users/jhyouk/15_NCC_CHA/11_SNP_INDEL/%s_snp_filtered.vcf' % input_fn  ,'w')\n",
    "    output_file.write(input_line+'\\n') #첫 줄은 header 라서 그냥 써주기 (앞에서 .strip()으로 '\\n'을 빼줬으니까 여기서 안넣어주면 계속 옆에 길게 붙는다.)\n",
    "    input_line = input_file.readline().strip() #input_line 은 input_file 의 그 다음줄\n",
    "\n",
    "    while input_line: #둘째줄부터는 아래 조건에 맞는 행만 추출\n",
    "        input_split = input_line.split('\\t')\n",
    "        #print(input_split)\n",
    "        #break\n",
    "        if input_split[34] == 'F':\n",
    "           'blank'\n",
    "        else:\n",
    "            output_file.write(input_line+'\\n')\n",
    "        input_line = input_file.readline().strip()\n",
    "\n",
    "    output_file.close()\n",
    "\n",
    "# INDEL TRUE filter\n",
    "\n",
    "for input_fn in input_id:\n",
    "    print(input_fn)\n",
    "    input_file = open('/home/users/jhyouk/15_NCC_CHA/11_SNP_INDEL/%s_indel_union_2.readinfo.readc.rasmy_PanelofNormal.filter1.vcf' % input_fn)\n",
    "    input_line = input_file.readline().strip() #input_line 은 input_file 의 첫 줄\n",
    "    output_file = open('/home/users/jhyouk/15_NCC_CHA/11_SNP_INDEL/%s_indel_filtered.vcf' % input_fn  ,'w')\n",
    "    output_file.write(input_line+'\\n') #첫 줄은 header 라서 그냥 써주기 (앞에서 .strip()으로 '\\n'을 빼줬으니까 여기서 안넣어주면 계속 옆에 길게 붙는다.)\n",
    "    input_line = input_file.readline().strip() #input_line 은 input_file 의 그 다음줄\n",
    "\n",
    "    while input_line: #둘째줄부터는 아래 조건에 맞는 행만 추출\n",
    "        input_split = input_line.split('\\t')\n",
    "        #print(input_split)\n",
    "        #break\n",
    "        if input_split[34] == 'F':\n",
    "           'blank'\n",
    "        else:\n",
    "            output_file.write(input_line+'\\n')\n",
    "        input_line = input_file.readline().strip()\n",
    "\n",
    "    output_file.close()\n",
    "print('THE END')"
   ]
  },
  {
   "cell_type": "code",
   "execution_count": 2,
   "metadata": {},
   "outputs": [
    {
     "name": "stdout",
     "output_type": "stream",
     "text": [
      "THE END\n"
     ]
    }
   ],
   "source": [
    "# SNP reformat for mutalisk\n",
    "\n",
    "#input_list = open(\"/home/users/jhyouk/15_NCC_CHA/NCC_sampleID_201030.txt\")\n",
    "input_id = ['31-2019-O-1']\n",
    "#input_list_line = input_list.readline().strip() #input_list_line 은 input_list 의 첫 줄\n",
    "\n",
    "#while input_list_line:\n",
    "#    input_id.append(input_list_line) #input_list_line 을 input_id 에 넣어라.\n",
    "#    input_list_line = input_list.readline().strip() #input_list_line 은 input_list 의 그 다음줄\n",
    "\n",
    "#print(input_id) #input_id 에 input_list 의 각 줄의 내용이 들어감.\n",
    "\n",
    "for i in input_id:\n",
    "    input_file = open(i+\"_snp_filtered.vcf\")\n",
    "    output_file = open(i+\"_snp_filtered_mutalisk.vcf\",\"w\")\n",
    "    input_line = input_file.readline().strip()\n",
    "    input_split = input_line.split('\\t')\n",
    "    output_file.write('\\t'.join(input_split[0:10])+'\\n')\n",
    "    \n",
    "    input_line = input_file.readline().strip()\n",
    "    while input_line:\n",
    "        input_split = input_line.split('\\t')\n",
    "        \n",
    "        #if float(input_split[33]) >= 0.3:     \n",
    "        output_file.write('\\t'.join(input_split[0:10])+'\\n')\n",
    "        \n",
    "        input_line = input_file.readline().strip()\n",
    "    \n",
    "    output_file.close()\n",
    "print('THE END')\n",
    "\n"
   ]
  },
  {
   "cell_type": "code",
   "execution_count": 3,
   "metadata": {},
   "outputs": [
    {
     "name": "stdout",
     "output_type": "stream",
     "text": [
      "31-2019-O-1\n",
      "31-2019-O-1\n",
      "31-2019-O-1\n",
      "THE END\n"
     ]
    }
   ],
   "source": [
    "## annovar\n",
    "\n",
    "import os\n",
    "\n",
    "#input_list = open(\"/home/users/jhyouk/15_NCC_CHA/NCC_sampleID_201030.txt\")\n",
    "input_id = ['31-2019-O-1']\n",
    "#input_list_line = input_list.readline().strip() #input_list_line 은 input_list 의 첫 줄\n",
    "\n",
    "#while input_list_line:\n",
    "#    input_id.append(input_list_line) #input_list_line 을 input_id 에 넣어라.\n",
    "#    input_list_line = input_list.readline().strip() #input_list_line 은 input_list 의 그 다음줄\n",
    "\n",
    "#print(input_id) #input_id 에 input_list 의 각 줄의 내용이 들어감.\n",
    "\n",
    "for input_fn in input_id:\n",
    "        print(input_fn)        \n",
    "        os.system ('python /home/users/sypark/01_Python_files/general_codes/annotate_using_annovar_v2.py -s -i \"refGene,1000g2015aug_all,exac03,snp142,clinvar_20180603,dbnsfp35a,dbscsnv11,cosmic86_coding\" %s_snp_filtered.vcf' % input_fn)\n",
    "\n",
    "for input_fn in input_id:\n",
    "    input_file = open('/home/users/jhyouk/15_NCC_CHA/11_SNP_INDEL/%s_snp_filtered.vcf.anv' % input_fn)\n",
    "    input_line = input_file.readline().strip() #input_line 은 input_file 의 첫 줄\n",
    "    output_file = open('/home/users/jhyouk/15_NCC_CHA/11_SNP_INDEL/%s_snp_filtered_filtered.vcf.anv' % input_fn  ,'w')\n",
    "    output_file.write(input_line+'\\n') #첫 줄은 header 라서 그냥 써주기 (앞에서 .strip()으로 '\\n'을 빼줬으니까 여기서 안넣어주면 계속 옆에 길게 붙는다.)\n",
    "    input_line = input_file.readline().strip() #input_line 은 input_file 의 그 다음줄\n",
    "\n",
    "    while input_line: #둘째줄부터는 아래 조건에 맞는 행만 추출\n",
    "        input_split = input_line.split('\\t')\n",
    "        #print(input_split)\n",
    "        #break\n",
    "        if input_split[35] == 'exonic' and input_split[38] =='nonsynonymous SNV':\n",
    "            output_file.write(input_line+'\\n')\n",
    "        else:\n",
    "            if input_split[35] == 'exonic' and input_split[38] =='stopgain':\n",
    "                output_file.write(input_line+'\\n')\n",
    "            else:\n",
    "                if input_split[35] == 'splicing':\n",
    "                    output_file.write(input_line+'\\n')\n",
    "                else:\n",
    "                    'blank'\n",
    "        input_line = input_file.readline().strip()\n",
    "        \n",
    "    output_file.close()\n",
    "\n",
    "\n",
    "for input_fn in input_id:\n",
    "        print(input_fn)\n",
    "        import os\n",
    "        os.system ('python /home/users/sypark/01_Python_files/general_codes/annotate_using_annovar_v2.py -s -i \"refGene,1000g2015aug_all,exac03,snp142,clinvar_20180603,dbnsfp35a,dbscsnv11,cosmic86_coding\" %s_indel_filtered.vcf' % input_fn)\n",
    "        \n",
    "\n",
    "for input_fn in input_id:\n",
    "    print(input_fn)\n",
    "    input_file = open('/home/users/jhyouk/15_NCC_CHA/11_SNP_INDEL/%s_indel_filtered.vcf.anv' % input_fn)\n",
    "    input_line = input_file.readline().strip() #input_line 은 input_file 의 첫 줄\n",
    "    output_file1 = open('/home/users/jhyouk/15_NCC_CHA/11_SNP_INDEL/%s_indel_filtered_filtered.vcf.anv' % input_fn  ,'w')\n",
    "    output_file1.write(input_line+'\\n') #첫 줄은 header 라서 그냥 써주기 (앞에서 .strip()으로 '\\n'을 빼줬으니까 여기서 안넣어주면 계속 옆에 길게 붙는다.)\n",
    "    input_line = input_file.readline().strip() #input_line 은 input_file 의 그 다음줄\n",
    "\n",
    "    while input_line: #둘째줄부터는 아래 조건에 맞는 행만 추출\n",
    "        input_split = input_line.split('\\t')\n",
    "        #print(input_split)\n",
    "        #break\n",
    "        if input_split[35] == 'exonic' and input_split[38] =='frameshift deletion':\n",
    "            output_file1.write(input_line+'\\n')\n",
    "        else:\n",
    "            if input_split[35] == 'exonic' and input_split[38] =='frameshift insertion':\n",
    "                output_file1.write(input_line+'\\n')\n",
    "            else:\n",
    "                if input_split[35] == 'splicing':\n",
    "                    output_file1.write(input_line+'\\n')\n",
    "                else:\n",
    "                    'blank'\n",
    "        input_line = input_file.readline().strip()\n",
    "        \n",
    "    output_file1.close()\n",
    "print('THE END')\n",
    "\n"
   ]
  },
  {
   "cell_type": "code",
   "execution_count": 7,
   "metadata": {},
   "outputs": [
    {
     "name": "stdout",
     "output_type": "stream",
     "text": [
      "['31-2017-F', '31-2019-F', '31-2019-O-1', '31-2019-O-2', '31-2019-O-3', '31-2019-O-4', '31-2019-O-5', '31-2019-O-6', '31-2019-O-7']\n",
      "31-2017-F\n",
      "31-2019-F\n",
      "31-2019-O-1\n",
      "31-2019-O-2\n",
      "31-2019-O-3\n",
      "31-2019-O-4\n",
      "31-2019-O-5\n",
      "31-2019-O-6\n",
      "31-2019-O-7\n",
      "THE END\n"
     ]
    }
   ],
   "source": [
    "###  indel strict selection criteria Part 1 of 2\n",
    "\n",
    "import math\n",
    "\n",
    "input_list = open(\"/home/users/jhyouk/15_NCC_CHA/NCC_sampleID_201030.txt\")\n",
    "input_id = []\n",
    "input_list_line = input_list.readline().strip() #input_list_line 은 input_list 의 첫 줄\n",
    "input_list_line = input_list.readline().strip()\n",
    "\n",
    "while input_list_line:\n",
    "    input_id.append(input_list_line) #input_list_line 을 input_id 에 넣어라.\n",
    "    input_list_line = input_list.readline().strip() #input_list_line 은 input_list 의 그 다음줄\n",
    "\n",
    "print(input_id) #input_id 에 input_list 의 각 줄의 내용이 들어감.\n",
    "\n",
    "for input_fn in input_id:\n",
    "    print input_fn\n",
    "    input_file = open(\"%s_indel_filtered.vcf.anv\" % input_fn)\n",
    "    input_line = input_file.readline().strip()\n",
    "    \n",
    "\n",
    "    output_file = open(\"%s_indel_filtered.anv.strict_pre.vcf\" % input_fn,\"w\")\n",
    "    output_file.write(input_line + \"\\tread_ref;read_var;PON_ref;PON_var;log10OR\\n\")\n",
    "    input_line = input_file.readline().strip()\n",
    "    while input_line:\n",
    "        input_split = input_line.split('\\t')\n",
    "        \n",
    "        input_PON_ref = 0\n",
    "        input_PON_var = 0\n",
    "        if input_split[30].split(';')[0] == 'NA':\n",
    "            'blank'\n",
    "        else:\n",
    "            input_PON_ref = input_PON_ref + int(input_split[30].split(';')[0])\n",
    "            input_PON_var = input_PON_var + int(input_split[30].split(';')[2])        \n",
    "            \n",
    "        if input_PON_ref == 0:\n",
    "            input_PON_ref = 9999\n",
    "        input_OR = (float(input_PON_var)*float(input_split[29].split(';')[9])) / (float(input_PON_ref)*float(input_split[29].split(';')[10]))\n",
    "        #print input_OR\n",
    "        output_file.write(input_line + \"\\t%s;%s;%s;%s;%s\\n\" %(input_split[29].split(';')[9],input_split[29].split(';')[10],input_PON_ref,input_PON_var,round(math.log10(input_OR+0.000001),3)))\n",
    "        \n",
    "        input_line = input_file.readline().strip()\n",
    "    output_file.close()\n",
    "print('THE END')"
   ]
  },
  {
   "cell_type": "code",
   "execution_count": 8,
   "metadata": {},
   "outputs": [
    {
     "name": "stdout",
     "output_type": "stream",
     "text": [
      "['31-2017-F', '31-2019-F', '31-2019-O-1', '31-2019-O-2', '31-2019-O-3', '31-2019-O-4', '31-2019-O-5', '31-2019-O-6', '31-2019-O-7']\n",
      "THE END\n"
     ]
    }
   ],
   "source": [
    "###  indel strict selection criteria Part 2 of 2\n",
    "import math\n",
    "\n",
    "\n",
    "input_list = open(\"/home/users/jhyouk/15_NCC_CHA/NCC_sampleID_201030.txt\")\n",
    "input_id = []\n",
    "input_list_line = input_list.readline().strip() #input_list_line 은 input_list 의 첫 줄\n",
    "input_list_line = input_list.readline().strip()\n",
    "\n",
    "while input_list_line:\n",
    "    input_id.append(input_list_line) #input_list_line 을 input_id 에 넣어라.\n",
    "    input_list_line = input_list.readline().strip() #input_list_line 은 input_list 의 그 다음줄\n",
    "\n",
    "print(input_id) \n",
    "\n",
    "for input_fn in input_id:\n",
    "    #print input_fn\n",
    "    input_file = open(\"%s_indel_filtered.anv.strict_pre.vcf\" % input_fn)\n",
    "    input_line = input_file.readline().strip()\n",
    "    \n",
    "\n",
    "    output_file = open(\"%s_indel_filtered.anv.strict_postfiltered.vcf\" %input_fn,\"w\")\n",
    "    output_file.write(input_line + \"\\n\")\n",
    "    input_line = input_file.readline().strip()\n",
    "    while input_line:\n",
    "        input_split = input_line.split('\\t')\n",
    "\n",
    "        read_var = int(input_split[59].split(';')[1])\n",
    "        logOR = float(input_split[59].split(';')[4])            \n",
    "\n",
    "        \n",
    "        if read_var > 2 and logOR < -3:\n",
    "            output_file.write(input_line + \"\\n\")\n",
    "        input_line = input_file.readline().strip()\n",
    "    output_file.close()\n",
    "    input_file.close()\n",
    "print('THE END')"
   ]
  },
  {
   "cell_type": "code",
   "execution_count": 13,
   "metadata": {},
   "outputs": [
    {
     "name": "stdout",
     "output_type": "stream",
     "text": [
      "/home/users/ayh/Projects/00_gastric_cancer/22_wgs/WGS_integrate/07_snp_union/indel/clonal/YPG110.mutect2_strelka2_union.indel.vcf.seqzcn.scF.bino1-4P.prob.clonal.vcf\n",
      "THE END\n"
     ]
    }
   ],
   "source": []
  },
  {
   "cell_type": "code",
   "execution_count": 14,
   "metadata": {},
   "outputs": [
    {
     "name": "stdout",
     "output_type": "stream",
     "text": [
      "THE END\n"
     ]
    }
   ],
   "source": []
  },
  {
   "cell_type": "code",
   "execution_count": null,
   "metadata": {},
   "outputs": [],
   "source": []
  }
 ],
 "metadata": {
  "kernelspec": {
   "display_name": "Python 2",
   "language": "python",
   "name": "python2"
  },
  "language_info": {
   "codemirror_mode": {
    "name": "ipython",
    "version": 2
   },
   "file_extension": ".py",
   "mimetype": "text/x-python",
   "name": "python",
   "nbconvert_exporter": "python",
   "pygments_lexer": "ipython2",
   "version": "2.7.16"
  }
 },
 "nbformat": 4,
 "nbformat_minor": 4
}
