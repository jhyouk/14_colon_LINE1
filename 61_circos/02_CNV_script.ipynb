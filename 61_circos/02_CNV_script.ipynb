{
 "cells": [
  {
   "cell_type": "code",
   "execution_count": 14,
   "metadata": {},
   "outputs": [
    {
     "name": "stdout",
     "output_type": "stream",
     "text": [
      "405\n",
      "THE END\n"
     ]
    }
   ],
   "source": [
    "# make CNV input file for hg19 circos\n",
    "\n",
    "import sys, os\n",
    "id_list = ['HC01','HC02','HC03','HC04','HC05','HC06','HC08','HC09','HC10','HC12','HC13','HC14','HC15','HC16','HC17','HC18','HC19','HC20','HC21'] #'HC15'\n",
    "gender_list = ['M','M','M','M','F','M','F','M','M','F','M','F','F','F','F','F','M','F','F']\n",
    "\n",
    "\n",
    "temp_list = os.listdir(\"/home/users/jhyouk/14_colon_LINE1/04_sequenza/\")\n",
    "file_list = []\n",
    "for i in temp_list:\n",
    "    if '.mpileup.100kbcov.absCN' in i:\n",
    "        file_list.append(i)\n",
    "print len(file_list)\n",
    "#sys.exit(1)\n",
    "\n",
    "#file_list = ['JHY-COL-HC02-01-wgs-ILLUMINA.fmarked.mpileup.100kbcov.absCN']\n",
    "\n",
    "#file_list = ['HC01-07.mpileup.100kbcov.absCN']\n",
    "for input_fn in file_list:\n",
    "    input_file = file(\"/home/users/jhyouk/14_colon_LINE1/04_sequenza/\" + input_fn)\n",
    "    output_file = file(\"/home/users/jhyouk/14_colon_LINE1/61_circos/\" + input_fn.replace(\"-wgs-ILLUMINA.fmarked\",\"\").replace(\"JHY-COL-\",\"\").replace(\".mpileup.100kbcov.absCN\",\"\") + '_CNV.input','w')\n",
    "\n",
    "    input_line = input_file.readline().strip()\n",
    "\n",
    "    while input_line:\n",
    "        if input_line[0:1] == '#':\n",
    "            input_line = input_file.readline().strip()\n",
    "            continue\n",
    "        input_split = input_line.split('\\t')\n",
    "        input_chr = 'hs' + input_split[0]\n",
    "        input_pos = int(input_split[1])\n",
    "        try:\n",
    "            input_CN = float(input_split[4])\n",
    "        except:\n",
    "            input_line = input_file.readline().strip()\n",
    "            continue\n",
    "        \n",
    "        ii = input_fn.replace(\"JHY-COL-\",\"\")\n",
    "        if gender_list[id_list.index(ii.split('-')[0])] == 'M':\n",
    "            if input_chr == 'hsX' or input_chr == 'hsY':\n",
    "                input_CN = input_CN / 2\n",
    "        \n",
    "        \n",
    "        if input_CN >5:\n",
    "            input_CN = 5\n",
    "\n",
    "        output_file.write(\"%s\\t%s\\t%s\\t%s\\n\" %(input_chr, input_pos, input_pos + 100000 -1, input_CN))\n",
    "        input_line = input_file.readline().strip()\n",
    "    output_file.close()\n",
    "    \n",
    "print 'THE END'   "
   ]
  },
  {
   "cell_type": "code",
   "execution_count": 1,
   "metadata": {},
   "outputs": [
    {
     "name": "stdout",
     "output_type": "stream",
     "text": [
      "THE END\n"
     ]
    }
   ],
   "source": [
    "import sys\n",
    "input_id = [\"6371424-Tumor\"]\n",
    "\n",
    "for input_fn in input_id:\n",
    "    input_file = file(\"/home/users/yssong/uveal_melanoma/04_sequenza/6371424-Tumor.mpileup.100kbcov.absCN\")\n",
    "    output_file = file(input_fn + '_CNV.input','w')\n",
    "\n",
    "    input_line = input_file.readline().strip()\n",
    "\n",
    "    while input_line:\n",
    "        if input_line[0:1] == '#':\n",
    "            input_line = input_file.readline().strip()\n",
    "            continue\n",
    "        input_split = input_line.split('\\t')\n",
    "        input_chr = 'hs' + input_split[0]\n",
    "        input_pos = int(input_split[1])\n",
    "        try:\n",
    "            input_CN = float(input_split[4])\n",
    "        except:\n",
    "            input_line = input_file.readline().strip()\n",
    "            continue\n",
    "        \n",
    "        if input_CN >5:\n",
    "            input_CN = 5\n",
    "\n",
    "        output_file.write(\"%s\\t%s\\t%s\\t%s\\n\" %(input_chr, input_pos, input_pos + 100000 -1, input_CN))\n",
    "        input_line = input_file.readline().strip()\n",
    "    output_file.close()\n",
    "    \n",
    "print 'THE END'   "
   ]
  },
  {
   "cell_type": "code",
   "execution_count": 6,
   "metadata": {},
   "outputs": [
    {
     "name": "stdout",
     "output_type": "stream",
     "text": [
      "THE END\n"
     ]
    }
   ],
   "source": [
    "#Generate absCN file\n",
    "\n",
    "import sys, os\n",
    "info_file = file(\"/home/users/jhyouk/14_colon_LINE1/colon_LINE1_405_metadata_v2.txt\")\n",
    "info_line = info_file.readline().strip()\n",
    "info_line = info_file.readline().strip()\n",
    "\n",
    "output_file = file(\"/home/users/jhyouk/14_colon_LINE1/04_sequenza/14_1_run_absCN.sh\",\"w\")\n",
    "while info_line:\n",
    "    info_split = info_line.split('\\t')\n",
    "    sample_ID = info_split[0]\n",
    "    sample_seq_name = info_split[1].replace('.s.md.bam','').replace('.bam','')\n",
    "    sample_germ = info_split[2].replace(\".s.md.bam\",\"\")\n",
    "    if 'HC01' in sample_germ or 'HC02' in sample_germ or 'HC03' in sample_germ:\n",
    "        sample_germ = sample_germ + '_germline_30x'\n",
    "\n",
    "    s_file = file(\"/home/users/jhyouk/14_colon_LINE1/04_sequenza/%s.mpileup.100kbcov.covstat\" % sample_seq_name)\n",
    "    s_line = s_file.readline().strip()\n",
    "    s_line = s_file.readline().strip()\n",
    "    s_mean = s_line.split('\\t')[3]\n",
    "    s_file.close()\n",
    "    \n",
    "    g_file = file(\"/home/users/jhyouk/14_colon_LINE1/04_sequenza/%s.mpileup.100kbcov.covstat\" % sample_germ)\n",
    "    g_line = g_file.readline().strip()\n",
    "    g_line = g_file.readline().strip()\n",
    "    g_mean = g_line.split('\\t')[3]\n",
    "    g_file.close()\n",
    "    \n",
    "    output_file.write(\"python 14_report_Tspecific_absolute_CN.py %s.mpileup.100kbcov %s.mpileup.100kbcov %s %s 1 2 &> %s.absCN.out\\n\" %(sample_seq_name,sample_germ,s_mean,g_mean,sample_seq_name))\n",
    "    \n",
    "    \n",
    "    info_line = info_file.readline().strip()\n",
    "output_file.close()\n",
    "print 'THE END'"
   ]
  },
  {
   "cell_type": "code",
   "execution_count": null,
   "metadata": {},
   "outputs": [],
   "source": []
  }
 ],
 "metadata": {
  "kernelspec": {
   "display_name": "Python 2",
   "language": "python",
   "name": "python2"
  },
  "language_info": {
   "codemirror_mode": {
    "name": "ipython",
    "version": 2
   },
   "file_extension": ".py",
   "mimetype": "text/x-python",
   "name": "python",
   "nbconvert_exporter": "python",
   "pygments_lexer": "ipython2",
   "version": "2.7.16"
  }
 },
 "nbformat": 4,
 "nbformat_minor": 4
}
