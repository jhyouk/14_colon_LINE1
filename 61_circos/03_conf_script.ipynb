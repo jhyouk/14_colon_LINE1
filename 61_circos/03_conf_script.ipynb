{
 "cells": [
  {
   "cell_type": "code",
   "execution_count": 15,
   "metadata": {},
   "outputs": [
    {
     "name": "stdout",
     "output_type": "stream",
     "text": [
      "405\n",
      "THE END\n"
     ]
    }
   ],
   "source": [
    "# make .conf input file for hg19 circos (using exercise.conf)\n",
    "# input_id = [\"Liver_20Gy1_SO2_retry\",\"S1N2P16_4-7\",\"mm_study2_pancreas_8by1Gy_SO2_retry\",\"HBIR2-1\",\"S1N2P16_4-8\",\"S1N2P15_2-6\",\"mm_study4_fallopian_IR_SO2\"]\n",
    "# input_id = [\"HBIR2-1\"]\n",
    "\n",
    "import sys, os\n",
    "info_file = file(\"/home/users/jhyouk/14_colon_LINE1/colon_LINE1_405_metadata_v2.txt\")\n",
    "info_line = info_file.readline().strip()\n",
    "info_line = info_file.readline().strip()\n",
    "\n",
    "sample_list = []\n",
    "while info_line:\n",
    "    sample_list.append(info_line.split('\\t')[0])\n",
    "    info_line = info_file.readline().strip()\n",
    "\n",
    "print len(sample_list)\n",
    "\n",
    "id_list = ['HC01','HC02','HC03','HC04','HC05','HC06','HC08','HC09','HC10','HC12','HC13','HC14','HC15','HC16','HC17','HC18','HC19','HC20','HC21'] #'HC15'\n",
    "gender_list = ['M','M','M','M','F','M','F','M','M','F','M','F','F','F','F','F','M','F','F']\n",
    "input_file = file(\"/home/users/jhyouk/14_colon_LINE1/61_circos/9151344-Tumor.conf\")\n",
    "\n",
    "#sample_list = ['HC01-07']\n",
    "\n",
    "\n",
    "output_file1 = file(\"/home/users/jhyouk/14_colon_LINE1/61_circos/01_run_circos_405.sh\",\"w\")\n",
    "for i in sample_list:\n",
    "    output_file = file(\"/home/users/jhyouk/14_colon_LINE1/61_circos/\" + i + \".conf\",'w')\n",
    "    input_file.seek(0)\n",
    "    input_line = input_file.readline().strip()\n",
    "    input_species = 'human'\n",
    "        \n",
    "    while input_line:\n",
    "        if input_line[0:4] == 'file':\n",
    "            temp_line = input_line.replace(\"HC01-07\",i)\n",
    "        elif '-hsY' in input_line:\n",
    "            if gender_list[id_list.index(i.split('-')[0])] == 'F':\n",
    "                temp_line = input_line\n",
    "            else:\n",
    "                temp_line = '#' + input_line\n",
    "            \n",
    "            \n",
    "        else: \n",
    "            temp_line = input_line\n",
    "            \n",
    "        output_file.write(temp_line + '\\n')\n",
    "        \n",
    "        \n",
    "        input_line = input_file.readline().strip()\n",
    "        \n",
    "    output_file.close()\n",
    "    output_file1.write(\"circos -conf %s.conf &> %s.circos.out\\n\" % (i,i))\n",
    "output_file1.close()\n",
    "print 'THE END'\n",
    "\n",
    "\n"
   ]
  },
  {
   "cell_type": "code",
   "execution_count": 24,
   "metadata": {},
   "outputs": [
    {
     "name": "stdout",
     "output_type": "stream",
     "text": [
      "1\n",
      "THE END\n"
     ]
    }
   ],
   "source": [
    "#sum\n",
    "\n",
    "import sys, os\n",
    "pre_list = os.listdir(\"/home/users/jhyouk/14_colon_LINE1/61_circos\")\n",
    "file_list = []\n",
    "for i in pre_list:\n",
    "    if '_SV.input' in i and 'total_sum' in i:\n",
    "        file_list.append(i)\n",
    "print len(file_list)\n",
    "#sys.exit(1)\n",
    "\n",
    "\n",
    "id_list = ['HC01','HC02','HC03','HC04','HC05','HC06','HC08','HC09','HC10','HC12','HC13','HC14','HC15','HC16','HC17','HC18','HC19','HC20','HC21'] #'HC15'\n",
    "gender_list = ['M','M','M','M','F','M','F','M','M','F','M','F','F','F','F','F','M','F','F']\n",
    "input_file = file(\"/home/users/jhyouk/14_colon_LINE1/61_circos/exercise.conf\")\n",
    "\n",
    "#sample_list = ['HC01-07']\n",
    "\n",
    "id_list = ['total_sum']\n",
    "gender_list = ['F']\n",
    "\n",
    "output_file1 = file(\"/home/users/jhyouk/14_colon_LINE1/61_circos/01_run_circos_sum_1.sh\",\"w\")\n",
    "for i in file_list:\n",
    "    i = i.replace(\"_SV.input\",\"\")\n",
    "    output_file = file(\"/home/users/jhyouk/14_colon_LINE1/61_circos/\" + i + \".conf\",'w')\n",
    "    input_file.seek(0)\n",
    "    input_line = input_file.readline().strip()\n",
    "    input_species = 'human'\n",
    "        \n",
    "    while input_line:\n",
    "        if input_line[0:4] == 'file':\n",
    "            temp_line = input_line.replace(\"exercise\",i)\n",
    "        elif '-hsY' in input_line:\n",
    "            if gender_list[id_list.index(i.split('-')[0])] == 'F':\n",
    "                temp_line = input_line\n",
    "            else:\n",
    "                temp_line = '#' + input_line\n",
    "            \n",
    "            \n",
    "        else: \n",
    "            temp_line = input_line\n",
    "            \n",
    "        output_file.write(temp_line + '\\n')\n",
    "        \n",
    "        \n",
    "        input_line = input_file.readline().strip()\n",
    "        \n",
    "    output_file.close()\n",
    "    output_file1.write(\"circos -conf %s.conf &> %s.circos.out\\n\" % (i,i))\n",
    "output_file1.close()\n",
    "print 'THE END'"
   ]
  },
  {
   "cell_type": "code",
   "execution_count": null,
   "metadata": {},
   "outputs": [],
   "source": []
  }
 ],
 "metadata": {
  "kernelspec": {
   "display_name": "Python 2",
   "language": "python",
   "name": "python2"
  },
  "language_info": {
   "codemirror_mode": {
    "name": "ipython",
    "version": 2
   },
   "file_extension": ".py",
   "mimetype": "text/x-python",
   "name": "python",
   "nbconvert_exporter": "python",
   "pygments_lexer": "ipython2",
   "version": "2.7.16"
  }
 },
 "nbformat": 4,
 "nbformat_minor": 4
}
