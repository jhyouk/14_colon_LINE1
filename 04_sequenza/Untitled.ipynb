{
 "cells": [
  {
   "cell_type": "code",
   "execution_count": 16,
   "metadata": {},
   "outputs": [
    {
     "name": "stdout",
     "output_type": "stream",
     "text": [
      "658\n"
     ]
    }
   ],
   "source": [
    "import os\n",
    "output_file = file(\"/home/users/jhyouk/14_colon_LINE1/05_varscan/test_mv.sh\",\"w\")\n",
    "\n",
    "\n",
    "temp_list = os.listdir('/home/users/jhyouk/14_colon_LINE1/05_varscan')\n",
    "file_list = []\n",
    "for i in temp_list:\n",
    "    if 'blood-wgs-ILLUMINA' in i :\n",
    "        temp_id = i\n",
    "        #germline_id = temp_id.split('-')[2] + '_germline_30x'\n",
    "        #print temp_id\n",
    "        output_file.write(\"mv %s %s\\n\" %(temp_id,temp_id.replace(\"varscan_somatic\",\"varscan\")))\n",
    "        \n",
    "        file_list.append(i)\n",
    "print len(file_list)\n",
    "output_file.close()"
   ]
  },
  {
   "cell_type": "code",
   "execution_count": null,
   "metadata": {},
   "outputs": [],
   "source": []
  }
 ],
 "metadata": {
  "kernelspec": {
   "display_name": "Python 2",
   "language": "python",
   "name": "python2"
  },
  "language_info": {
   "codemirror_mode": {
    "name": "ipython",
    "version": 2
   },
   "file_extension": ".py",
   "mimetype": "text/x-python",
   "name": "python",
   "nbconvert_exporter": "python",
   "pygments_lexer": "ipython2",
   "version": "2.7.16"
  }
 },
 "nbformat": 4,
 "nbformat_minor": 4
}
