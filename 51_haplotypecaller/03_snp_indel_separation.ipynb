{
 "cells": [
  {
   "cell_type": "code",
   "execution_count": null,
   "metadata": {},
   "outputs": [],
   "source": [
    "import os, sys\n",
    "temp_list = os.listdir(\"/home/users/jhyouk/14_colon_LINE1/51_haplotypecaller/\")\n",
    "file_list = []\n",
    "pre_list = []\n",
    "for i in temp_list:\n",
    "    if 'HC15-' not in i and '.out' not in i and '.idx' not in i and '-' in i and '.hc.snp.indel.vcf' in i:\n",
    "        pre_list.append(i)\n",
    "print len(pre_list)\n",
    "\n",
    "for input_fn in pre_list:\n",
    "    print input_fn\n",
    "    input_file = file(\"/home/users/jhyouk/14_colon_LINE1/51_haplotypecaller/%s\" % input_fn)\n",
    "    output_file =file(\"/home/users/jhyouk/14_colon_LINE1/51_haplotypecaller/%s\" % input_fn.replace(\".indel\",\"\"), 'w')\n",
    "    output_indel_file =file(\"/home/users/jhyouk/14_colon_LINE1/51_haplotypecaller/%s\" % input_fn.replace(\".snp\",\"\"), 'w')\n",
    "    \n",
    "    input_line = input_file.readline().strip()\n",
    "    while input_line[0:2] == '##':\n",
    "        input_line = input_file.readline().strip()\n",
    "    while input_line[0:1] == '#':\n",
    "        output_file.write(input_line+'\\n')\n",
    "        output_indel_file.write(input_line+'\\n')\n",
    "        input_line = input_file.readline().strip()\n",
    "        \n",
    "    while input_line:\n",
    "        input_split = input_line.split('\\t')\n",
    "        \n",
    "        if len(input_split[3]) == len(input_split[4]):\n",
    "            output_file.write(input_line+'\\n')\n",
    "        else:\n",
    "            output_indel_file.write(input_line+'\\n')\n",
    "            \n",
    "        input_line = input_file.readline().strip()            \n",
    "            \n",
    "        \n",
    "    input_file.close()\n",
    "    output_file.close()\n",
    "    output_indel_file.close()\n",
    "print 'THE END'"
   ]
  }
 ],
 "metadata": {
  "kernelspec": {
   "display_name": "Python 2",
   "language": "python",
   "name": "python2"
  },
  "language_info": {
   "codemirror_mode": {
    "name": "ipython",
    "version": 2
   },
   "file_extension": ".py",
   "mimetype": "text/x-python",
   "name": "python",
   "nbconvert_exporter": "python",
   "pygments_lexer": "ipython2",
   "version": "2.7.16"
  }
 },
 "nbformat": 4,
 "nbformat_minor": 4
}
